{
 "cells": [
  {
   "cell_type": "markdown",
   "id": "568741fa-93b7-41d9-bc8c-ad1b5918a2d0",
   "metadata": {},
   "source": [
    "# Data Science Tools and Ecosystem"
   ]
  },
  {
   "cell_type": "markdown",
   "id": "1a356ab9-f30e-44b8-8b24-49b42250a60c",
   "metadata": {},
   "source": [
    "In this notebook, Data Science Tools and Ecosystem are summarized."
   ]
  },
  {
   "cell_type": "markdown",
   "id": "e00d8945-6a21-4869-b2da-bb2a1be91998",
   "metadata": {},
   "source": [
    "**Objectives**\n",
    "  * Julia 1.1.1\n",
    "  * R\n",
    "  * Swift"
   ]
  },
  {
   "cell_type": "markdown",
   "id": "9bcbe9a9-fad3-4743-b637-124d35237574",
   "metadata": {},
   "source": [
    "Some of the popular languages that Data Scientists use are:\n",
    "1. SQL\n",
    "2. Python\n",
    "3. R\n",
    "4. Java"
   ]
  },
  {
   "cell_type": "markdown",
   "id": "5bbe0047-f07d-4a90-b569-2a7baa4a4b8a",
   "metadata": {},
   "source": [
    "Some of the commonly used libraries used by Data Scientists include:\n",
    "1. NumPy.\n",
    "2. PyTorch.\n",
    "3. TensorFlow\n",
    "4. Pandas."
   ]
  },
  {
   "cell_type": "markdown",
   "id": "55ecbdcd-947d-469f-a4f3-eb1f93af015c",
   "metadata": {},
   "source": [
    "|Data Science Tools|\n",
    "|---|\n",
    "|RStudio|\n",
    "|Apache Spark|\n",
    "|TensorFlow|"
   ]
  },
  {
   "cell_type": "markdown",
   "id": "1cc8133c-9f53-45fe-ba33-fd814fbe6fbd",
   "metadata": {},
   "source": [
    "### Below are a few examples of evaluating arithmetic expressions in Python"
   ]
  },
  {
   "cell_type": "code",
   "execution_count": 4,
   "id": "3c6e07f9-ce2b-4392-bc93-2fcd710151cb",
   "metadata": {},
   "outputs": [
    {
     "data": {
      "text/plain": [
       "17"
      ]
     },
     "execution_count": 4,
     "metadata": {},
     "output_type": "execute_result"
    }
   ],
   "source": [
    "# This a simple arithmetic expression to mutiply then add integers\n",
    "(3*4)+5"
   ]
  },
  {
   "cell_type": "code",
   "execution_count": 5,
   "id": "578aa46c-3515-4f0d-976d-eaf7a0f82f91",
   "metadata": {},
   "outputs": [
    {
     "data": {
      "text/plain": [
       "3.3333333333333335"
      ]
     },
     "execution_count": 5,
     "metadata": {},
     "output_type": "execute_result"
    }
   ],
   "source": [
    "#This will convert 200 minutes to hours by diving by 60\n",
    "200/60"
   ]
  },
  {
   "cell_type": "markdown",
   "id": "c8fc0018-87b7-4ece-82b9-06b3e01ce578",
   "metadata": {},
   "source": [
    "## Author\n",
    "Martyna A."
   ]
  }
 ],
 "metadata": {
  "kernelspec": {
   "display_name": "Python",
   "language": "python",
   "name": "conda-env-python-py"
  },
  "language_info": {
   "codemirror_mode": {
    "name": "ipython",
    "version": 3
   },
   "file_extension": ".py",
   "mimetype": "text/x-python",
   "name": "python",
   "nbconvert_exporter": "python",
   "pygments_lexer": "ipython3",
   "version": "3.7.12"
  }
 },
 "nbformat": 4,
 "nbformat_minor": 5
}
